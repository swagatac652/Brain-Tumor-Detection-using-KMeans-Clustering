{
 "cells": [
  {
   "cell_type": "code",
   "execution_count": 5,
   "metadata": {},
   "outputs": [
    {
     "name": "stdout",
     "output_type": "stream",
     "text": [
      "no. of contours:  2195\n",
      "no. of contours:  3786\n",
      "no. of contours:  3443\n",
      "no. of contours:  3411\n",
      "no. of contours:  3817\n",
      "no. of contours:  2922\n",
      "no. of contours:  2816\n",
      "no. of contours:  3393\n",
      "no. of contours:  3445\n",
      "no. of contours:  2372\n",
      "no. of contours:  2586\n",
      "no. of contours:  1388\n",
      "no. of contours:  2090\n"
     ]
    }
   ],
   "source": [
    "import os\n",
    "import cv2\n",
    "import numpy as np\n",
    "import joblib\n",
    "from matplotlib import pyplot as plt\n",
    "\n",
    "model=joblib.load('KMeans_model.sav')\n",
    "tumorLabel=5\n",
    "\n",
    "test_img_path='test_images'\n",
    "test_img_names=os.listdir(test_img_path)\n",
    "\n",
    "for test_img_name in test_img_names:\n",
    "    \n",
    "    img_path=os.path.join(test_img_path,test_img_name)\n",
    "    \n",
    "    img=cv2.imread(img_path,0)\n",
    "    img_original=cv2.imread(img_path)\n",
    "    \n",
    "    height,width=img.shape\n",
    "    imgFlatten=img.reshape(height*width,1)\n",
    "    labels=model.predict(imgFlatten)\n",
    "    labels2D=labels.reshape(height,width)\n",
    "    mask=(labels2D==tumorLabel)\n",
    "    tumorExtracted=np.bitwise_and(mask,img)\n",
    "    contours,hiearachy=cv2.findContours(tumorExtracted,cv2.RETR_TREE,cv2.CHAIN_APPROX_SIMPLE)\n",
    "    print('no. of contours: ',len(contours))\n",
    "\n",
    "    for index,cnt in enumerate(contours):\n",
    "        area=cv2.contourArea(cnt)\n",
    "        if(area>1600):\n",
    "            cv2.drawContours(img_original,[cnt],-1,(0,255,255),2)\n",
    "            x,y,w,h=cv2.boundingRect(cnt)\n",
    "            cv2.rectangle(img_original,(x,y),(x+w,y+h),(0,255,0),2)\n",
    "            cv2.rectangle(img_original,(x,y),(x+120,y-40),(0,255,0),-1) #-1 implies a filled rectangle\n",
    "            cv2.putText(img_original,\"TUMOR\",(x+10,y-10),cv2.FONT_HERSHEY_SIMPLEX,1,(255,255,255),2)\n",
    "    cv2.imshow('LIVE',img_original)\n",
    "    cv2.waitKey(1000)\n",
    "    cv2.destroyAllWindows()"
   ]
  },
  {
   "cell_type": "code",
   "execution_count": null,
   "metadata": {},
   "outputs": [],
   "source": []
  }
 ],
 "metadata": {
  "kernelspec": {
   "display_name": "Python 3",
   "language": "python",
   "name": "python3"
  },
  "language_info": {
   "codemirror_mode": {
    "name": "ipython",
    "version": 3
   },
   "file_extension": ".py",
   "mimetype": "text/x-python",
   "name": "python",
   "nbconvert_exporter": "python",
   "pygments_lexer": "ipython3",
   "version": "3.8.5"
  }
 },
 "nbformat": 4,
 "nbformat_minor": 4
}
